{
 "metadata": {
  "language_info": {
   "codemirror_mode": {
    "name": "ipython",
    "version": 3
   },
   "file_extension": ".py",
   "mimetype": "text/x-python",
   "name": "python",
   "nbconvert_exporter": "python",
   "pygments_lexer": "ipython3",
   "version": 3
  },
  "orig_nbformat": 2
 },
 "nbformat": 4,
 "nbformat_minor": 2,
 "cells": [
  {
   "source": [
    "# Imports "
   ],
   "cell_type": "markdown",
   "metadata": {}
  },
  {
   "cell_type": "code",
   "execution_count": null,
   "metadata": {},
   "outputs": [],
   "source": [
    "df <- "
   ]
  },
  {
   "source": [
    "# D.O. Concentration Data Manipulation\n",
    "\n",
    "Goal is to search the day's dats and if there was a reading is < 2units then it will be counted as a hypoxic day. "
   ],
   "cell_type": "markdown",
   "metadata": {}
  },
  {
   "cell_type": "code",
   "execution_count": null,
   "metadata": {},
   "outputs": [],
   "source": []
  },
  {
   "source": [
    "# Chlo and Phyco HAB Data Manipulation\n",
    "\n",
    "Goal is to search the day's dats and if there was a reading is < 2units then it will be counted as a hypoxic day. "
   ],
   "cell_type": "markdown",
   "metadata": {}
  }
 ]
}